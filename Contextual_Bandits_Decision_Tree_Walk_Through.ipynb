{
 "cells": [
  {
   "cell_type": "code",
   "execution_count": 1,
   "metadata": {},
   "outputs": [],
   "source": [
    "import Contextual_Bandits_Tree_Class as cbdt\n",
    "\n",
    "import pandas as pd\n",
    "import numpy as np\n",
    "import random\n",
    "from timeit import default_timer as timer"
   ]
  },
  {
   "cell_type": "markdown",
   "metadata": {},
   "source": [
    "### Load Simulation Data"
   ]
  },
  {
   "cell_type": "code",
   "execution_count": 2,
   "metadata": {},
   "outputs": [],
   "source": [
    "simulation_data = pd.read_csv('simulation_data.csv')"
   ]
  },
  {
   "cell_type": "code",
   "execution_count": 3,
   "metadata": {},
   "outputs": [
    {
     "data": {
      "text/html": [
       "<div>\n",
       "<table border=\"1\" class=\"dataframe\">\n",
       "  <thead>\n",
       "    <tr style=\"text-align: right;\">\n",
       "      <th></th>\n",
       "      <th>Gender</th>\n",
       "      <th>AgeGroup</th>\n",
       "      <th>Program</th>\n",
       "      <th>Income</th>\n",
       "      <th>State</th>\n",
       "      <th>Device</th>\n",
       "      <th>OS</th>\n",
       "      <th>Browser</th>\n",
       "      <th>option</th>\n",
       "      <th>click</th>\n",
       "    </tr>\n",
       "  </thead>\n",
       "  <tbody>\n",
       "    <tr>\n",
       "      <th>0</th>\n",
       "      <td>0</td>\n",
       "      <td>3.0</td>\n",
       "      <td>C</td>\n",
       "      <td>200447</td>\n",
       "      <td>NJ</td>\n",
       "      <td>Desktop</td>\n",
       "      <td>Apple</td>\n",
       "      <td>Chrome</td>\n",
       "      <td>A</td>\n",
       "      <td>0</td>\n",
       "    </tr>\n",
       "    <tr>\n",
       "      <th>1</th>\n",
       "      <td>0</td>\n",
       "      <td>3.0</td>\n",
       "      <td>D</td>\n",
       "      <td>473011</td>\n",
       "      <td>CA</td>\n",
       "      <td>Desktop</td>\n",
       "      <td>Windows</td>\n",
       "      <td>Chrome</td>\n",
       "      <td>A</td>\n",
       "      <td>0</td>\n",
       "    </tr>\n",
       "    <tr>\n",
       "      <th>2</th>\n",
       "      <td>0</td>\n",
       "      <td>4.0</td>\n",
       "      <td>D</td>\n",
       "      <td>337266</td>\n",
       "      <td>CA</td>\n",
       "      <td>Mobile</td>\n",
       "      <td>Apple</td>\n",
       "      <td>Chrome</td>\n",
       "      <td>A</td>\n",
       "      <td>0</td>\n",
       "    </tr>\n",
       "    <tr>\n",
       "      <th>3</th>\n",
       "      <td>1</td>\n",
       "      <td>1.0</td>\n",
       "      <td>E</td>\n",
       "      <td>167260</td>\n",
       "      <td>NJ</td>\n",
       "      <td>Desktop</td>\n",
       "      <td>Apple</td>\n",
       "      <td>Chrome</td>\n",
       "      <td>A</td>\n",
       "      <td>0</td>\n",
       "    </tr>\n",
       "    <tr>\n",
       "      <th>4</th>\n",
       "      <td>1</td>\n",
       "      <td>1.0</td>\n",
       "      <td>D</td>\n",
       "      <td>364587</td>\n",
       "      <td>CA</td>\n",
       "      <td>Tablet</td>\n",
       "      <td>Apple</td>\n",
       "      <td>Chrome</td>\n",
       "      <td>B</td>\n",
       "      <td>0</td>\n",
       "    </tr>\n",
       "  </tbody>\n",
       "</table>\n",
       "</div>"
      ],
      "text/plain": [
       "   Gender  AgeGroup Program  Income State   Device       OS Browser option  \\\n",
       "0       0       3.0       C  200447    NJ  Desktop    Apple  Chrome      A   \n",
       "1       0       3.0       D  473011    CA  Desktop  Windows  Chrome      A   \n",
       "2       0       4.0       D  337266    CA   Mobile    Apple  Chrome      A   \n",
       "3       1       1.0       E  167260    NJ  Desktop    Apple  Chrome      A   \n",
       "4       1       1.0       D  364587    CA   Tablet    Apple  Chrome      B   \n",
       "\n",
       "   click  \n",
       "0      0  \n",
       "1      0  \n",
       "2      0  \n",
       "3      0  \n",
       "4      0  "
      ]
     },
     "execution_count": 3,
     "metadata": {},
     "output_type": "execute_result"
    }
   ],
   "source": [
    "simulation_data.head()"
   ]
  },
  {
   "cell_type": "markdown",
   "metadata": {},
   "source": [
    "### Train/Test Split"
   ]
  },
  {
   "cell_type": "code",
   "execution_count": 4,
   "metadata": {},
   "outputs": [],
   "source": [
    "def train_test_split(df, test_size):\n",
    "    '''splits the data into training and testing sets based on size of requested test set'''\n",
    "\n",
    "    if isinstance(test_size, float):\n",
    "        test_size = round(test_size * len(df))\n",
    "\n",
    "    indices = df.index.tolist()\n",
    "    test_indices = random.sample(population = indices, k = test_size)\n",
    "\n",
    "    test_df = df.loc[test_indices]\n",
    "    train_df = df.drop(test_indices)\n",
    "\n",
    "    return train_df, test_df"
   ]
  },
  {
   "cell_type": "code",
   "execution_count": 5,
   "metadata": {},
   "outputs": [],
   "source": [
    "train_df, test_df = train_test_split(simulation_data, .2)"
   ]
  },
  {
   "cell_type": "markdown",
   "metadata": {},
   "source": [
    "### Train the Contextual Bandits Decision Tree"
   ]
  },
  {
   "cell_type": "code",
   "execution_count": 6,
   "metadata": {},
   "outputs": [
    {
     "name": "stdout",
     "output_type": "stream",
     "text": [
      "46.883 Seconds\n"
     ]
    }
   ],
   "source": [
    "start = timer()\n",
    "tree = cbdt.Contextual_Bandits_Tree(max_depth = 5).fit(train_df, click_column_name = 'click', option_column_name = 'option')\n",
    "end = timer()\n",
    "print('{} Seconds'.format(np.round(end - start,3)))"
   ]
  },
  {
   "cell_type": "markdown",
   "metadata": {},
   "source": [
    "### Evaluate the Contextual Bandits Decision Tree"
   ]
  },
  {
   "cell_type": "code",
   "execution_count": 7,
   "metadata": {},
   "outputs": [
    {
     "name": "stdout",
     "output_type": "stream",
     "text": [
      "Actual CTOR: 8.29%  Pred CTOR: 9.82%  Potential CTOR: 10.24%\n",
      "Pred Lift: 18.46% Potential Lift 23.46%\n"
     ]
    },
    {
     "data": {
      "text/html": [
       "<div>\n",
       "<table border=\"1\" class=\"dataframe\">\n",
       "  <thead>\n",
       "    <tr style=\"text-align: right;\">\n",
       "      <th></th>\n",
       "      <th>pred_node</th>\n",
       "      <th>opens_A</th>\n",
       "      <th>opens_B</th>\n",
       "      <th>clicks_A</th>\n",
       "      <th>clicks_B</th>\n",
       "      <th>mean_A</th>\n",
       "      <th>mean_B</th>\n",
       "      <th>pred_class</th>\n",
       "      <th>pred_p_value</th>\n",
       "      <th>A_prob</th>\n",
       "      <th>B_prob</th>\n",
       "      <th>B_weight</th>\n",
       "      <th>A_weight</th>\n",
       "      <th>mean_of_policy</th>\n",
       "      <th>total_opens</th>\n",
       "      <th>total_clicks</th>\n",
       "      <th>total_mean</th>\n",
       "      <th>total_incremental_clicks</th>\n",
       "      <th>potential_incremental_clicks</th>\n",
       "    </tr>\n",
       "  </thead>\n",
       "  <tbody>\n",
       "    <tr>\n",
       "      <th>0</th>\n",
       "      <td>4</td>\n",
       "      <td>496</td>\n",
       "      <td>493</td>\n",
       "      <td>49</td>\n",
       "      <td>24</td>\n",
       "      <td>0.098790</td>\n",
       "      <td>0.048682</td>\n",
       "      <td>mean_A</td>\n",
       "      <td>0.00000</td>\n",
       "      <td>1.000</td>\n",
       "      <td>0.000</td>\n",
       "      <td>0.000000</td>\n",
       "      <td>0.098790</td>\n",
       "      <td>0.098790</td>\n",
       "      <td>989</td>\n",
       "      <td>73</td>\n",
       "      <td>0.073812</td>\n",
       "      <td>24.703629</td>\n",
       "      <td>24.703629</td>\n",
       "    </tr>\n",
       "    <tr>\n",
       "      <th>1</th>\n",
       "      <td>5</td>\n",
       "      <td>320</td>\n",
       "      <td>306</td>\n",
       "      <td>28</td>\n",
       "      <td>13</td>\n",
       "      <td>0.087500</td>\n",
       "      <td>0.042484</td>\n",
       "      <td>mean_A</td>\n",
       "      <td>0.00000</td>\n",
       "      <td>1.000</td>\n",
       "      <td>0.000</td>\n",
       "      <td>0.000000</td>\n",
       "      <td>0.087500</td>\n",
       "      <td>0.087500</td>\n",
       "      <td>626</td>\n",
       "      <td>41</td>\n",
       "      <td>0.065495</td>\n",
       "      <td>13.775000</td>\n",
       "      <td>13.775000</td>\n",
       "    </tr>\n",
       "    <tr>\n",
       "      <th>2</th>\n",
       "      <td>7</td>\n",
       "      <td>416</td>\n",
       "      <td>458</td>\n",
       "      <td>44</td>\n",
       "      <td>24</td>\n",
       "      <td>0.105769</td>\n",
       "      <td>0.052402</td>\n",
       "      <td>mean_A</td>\n",
       "      <td>0.00000</td>\n",
       "      <td>1.000</td>\n",
       "      <td>0.000</td>\n",
       "      <td>0.000000</td>\n",
       "      <td>0.105769</td>\n",
       "      <td>0.105769</td>\n",
       "      <td>874</td>\n",
       "      <td>68</td>\n",
       "      <td>0.077803</td>\n",
       "      <td>24.442308</td>\n",
       "      <td>24.442308</td>\n",
       "    </tr>\n",
       "    <tr>\n",
       "      <th>3</th>\n",
       "      <td>8</td>\n",
       "      <td>1716</td>\n",
       "      <td>1801</td>\n",
       "      <td>185</td>\n",
       "      <td>79</td>\n",
       "      <td>0.107809</td>\n",
       "      <td>0.043865</td>\n",
       "      <td>mean_A</td>\n",
       "      <td>0.00000</td>\n",
       "      <td>1.000</td>\n",
       "      <td>0.000</td>\n",
       "      <td>0.000000</td>\n",
       "      <td>0.107809</td>\n",
       "      <td>0.107809</td>\n",
       "      <td>3517</td>\n",
       "      <td>264</td>\n",
       "      <td>0.075064</td>\n",
       "      <td>115.163753</td>\n",
       "      <td>115.163753</td>\n",
       "    </tr>\n",
       "    <tr>\n",
       "      <th>4</th>\n",
       "      <td>12</td>\n",
       "      <td>306</td>\n",
       "      <td>338</td>\n",
       "      <td>31</td>\n",
       "      <td>25</td>\n",
       "      <td>0.101307</td>\n",
       "      <td>0.073964</td>\n",
       "      <td>mean_B</td>\n",
       "      <td>0.11658</td>\n",
       "      <td>0.086</td>\n",
       "      <td>0.914</td>\n",
       "      <td>0.067604</td>\n",
       "      <td>0.008712</td>\n",
       "      <td>0.076316</td>\n",
       "      <td>644</td>\n",
       "      <td>56</td>\n",
       "      <td>0.086957</td>\n",
       "      <td>-6.852516</td>\n",
       "      <td>9.241830</td>\n",
       "    </tr>\n",
       "    <tr>\n",
       "      <th>5</th>\n",
       "      <td>13</td>\n",
       "      <td>581</td>\n",
       "      <td>608</td>\n",
       "      <td>58</td>\n",
       "      <td>52</td>\n",
       "      <td>0.099828</td>\n",
       "      <td>0.085526</td>\n",
       "      <td>mean_B</td>\n",
       "      <td>0.06001</td>\n",
       "      <td>0.044</td>\n",
       "      <td>0.956</td>\n",
       "      <td>0.081763</td>\n",
       "      <td>0.004392</td>\n",
       "      <td>0.086156</td>\n",
       "      <td>1189</td>\n",
       "      <td>110</td>\n",
       "      <td>0.092515</td>\n",
       "      <td>-7.561010</td>\n",
       "      <td>8.695353</td>\n",
       "    </tr>\n",
       "    <tr>\n",
       "      <th>6</th>\n",
       "      <td>14</td>\n",
       "      <td>316</td>\n",
       "      <td>316</td>\n",
       "      <td>27</td>\n",
       "      <td>35</td>\n",
       "      <td>0.085443</td>\n",
       "      <td>0.110759</td>\n",
       "      <td>mean_A</td>\n",
       "      <td>0.64498</td>\n",
       "      <td>0.667</td>\n",
       "      <td>0.333</td>\n",
       "      <td>0.036883</td>\n",
       "      <td>0.056991</td>\n",
       "      <td>0.093873</td>\n",
       "      <td>632</td>\n",
       "      <td>62</td>\n",
       "      <td>0.098101</td>\n",
       "      <td>-2.672000</td>\n",
       "      <td>8.000000</td>\n",
       "    </tr>\n",
       "    <tr>\n",
       "      <th>7</th>\n",
       "      <td>16</td>\n",
       "      <td>431</td>\n",
       "      <td>419</td>\n",
       "      <td>47</td>\n",
       "      <td>44</td>\n",
       "      <td>0.109049</td>\n",
       "      <td>0.105012</td>\n",
       "      <td>mean_B</td>\n",
       "      <td>0.39663</td>\n",
       "      <td>0.229</td>\n",
       "      <td>0.771</td>\n",
       "      <td>0.080964</td>\n",
       "      <td>0.024972</td>\n",
       "      <td>0.105936</td>\n",
       "      <td>850</td>\n",
       "      <td>91</td>\n",
       "      <td>0.107059</td>\n",
       "      <td>-0.954095</td>\n",
       "      <td>1.691415</td>\n",
       "    </tr>\n",
       "    <tr>\n",
       "      <th>8</th>\n",
       "      <td>17</td>\n",
       "      <td>351</td>\n",
       "      <td>374</td>\n",
       "      <td>30</td>\n",
       "      <td>38</td>\n",
       "      <td>0.085470</td>\n",
       "      <td>0.101604</td>\n",
       "      <td>mean_A</td>\n",
       "      <td>0.06107</td>\n",
       "      <td>0.959</td>\n",
       "      <td>0.041</td>\n",
       "      <td>0.004166</td>\n",
       "      <td>0.081966</td>\n",
       "      <td>0.086132</td>\n",
       "      <td>725</td>\n",
       "      <td>68</td>\n",
       "      <td>0.093793</td>\n",
       "      <td>-5.554599</td>\n",
       "      <td>5.663102</td>\n",
       "    </tr>\n",
       "    <tr>\n",
       "      <th>9</th>\n",
       "      <td>20</td>\n",
       "      <td>339</td>\n",
       "      <td>328</td>\n",
       "      <td>37</td>\n",
       "      <td>41</td>\n",
       "      <td>0.109145</td>\n",
       "      <td>0.125000</td>\n",
       "      <td>mean_A</td>\n",
       "      <td>0.06750</td>\n",
       "      <td>0.952</td>\n",
       "      <td>0.048</td>\n",
       "      <td>0.006000</td>\n",
       "      <td>0.103906</td>\n",
       "      <td>0.109906</td>\n",
       "      <td>667</td>\n",
       "      <td>78</td>\n",
       "      <td>0.116942</td>\n",
       "      <td>-4.692962</td>\n",
       "      <td>5.375000</td>\n",
       "    </tr>\n",
       "    <tr>\n",
       "      <th>10</th>\n",
       "      <td>21</td>\n",
       "      <td>739</td>\n",
       "      <td>764</td>\n",
       "      <td>80</td>\n",
       "      <td>67</td>\n",
       "      <td>0.108254</td>\n",
       "      <td>0.087696</td>\n",
       "      <td>mean_B</td>\n",
       "      <td>0.97002</td>\n",
       "      <td>0.473</td>\n",
       "      <td>0.527</td>\n",
       "      <td>0.046216</td>\n",
       "      <td>0.051204</td>\n",
       "      <td>0.097420</td>\n",
       "      <td>1503</td>\n",
       "      <td>147</td>\n",
       "      <td>0.097804</td>\n",
       "      <td>-0.577291</td>\n",
       "      <td>15.706360</td>\n",
       "    </tr>\n",
       "    <tr>\n",
       "      <th>11</th>\n",
       "      <td>22</td>\n",
       "      <td>3915</td>\n",
       "      <td>3869</td>\n",
       "      <td>224</td>\n",
       "      <td>376</td>\n",
       "      <td>0.057216</td>\n",
       "      <td>0.097183</td>\n",
       "      <td>mean_B</td>\n",
       "      <td>0.00000</td>\n",
       "      <td>0.000</td>\n",
       "      <td>1.000</td>\n",
       "      <td>0.097183</td>\n",
       "      <td>0.000000</td>\n",
       "      <td>0.097183</td>\n",
       "      <td>7784</td>\n",
       "      <td>600</td>\n",
       "      <td>0.077081</td>\n",
       "      <td>156.470406</td>\n",
       "      <td>156.470406</td>\n",
       "    </tr>\n",
       "  </tbody>\n",
       "</table>\n",
       "</div>"
      ],
      "text/plain": [
       "    pred_node  opens_A  opens_B  clicks_A  clicks_B    mean_A    mean_B  \\\n",
       "0           4      496      493        49        24  0.098790  0.048682   \n",
       "1           5      320      306        28        13  0.087500  0.042484   \n",
       "2           7      416      458        44        24  0.105769  0.052402   \n",
       "3           8     1716     1801       185        79  0.107809  0.043865   \n",
       "4          12      306      338        31        25  0.101307  0.073964   \n",
       "5          13      581      608        58        52  0.099828  0.085526   \n",
       "6          14      316      316        27        35  0.085443  0.110759   \n",
       "7          16      431      419        47        44  0.109049  0.105012   \n",
       "8          17      351      374        30        38  0.085470  0.101604   \n",
       "9          20      339      328        37        41  0.109145  0.125000   \n",
       "10         21      739      764        80        67  0.108254  0.087696   \n",
       "11         22     3915     3869       224       376  0.057216  0.097183   \n",
       "\n",
       "   pred_class  pred_p_value  A_prob  B_prob  B_weight  A_weight  \\\n",
       "0      mean_A       0.00000   1.000   0.000  0.000000  0.098790   \n",
       "1      mean_A       0.00000   1.000   0.000  0.000000  0.087500   \n",
       "2      mean_A       0.00000   1.000   0.000  0.000000  0.105769   \n",
       "3      mean_A       0.00000   1.000   0.000  0.000000  0.107809   \n",
       "4      mean_B       0.11658   0.086   0.914  0.067604  0.008712   \n",
       "5      mean_B       0.06001   0.044   0.956  0.081763  0.004392   \n",
       "6      mean_A       0.64498   0.667   0.333  0.036883  0.056991   \n",
       "7      mean_B       0.39663   0.229   0.771  0.080964  0.024972   \n",
       "8      mean_A       0.06107   0.959   0.041  0.004166  0.081966   \n",
       "9      mean_A       0.06750   0.952   0.048  0.006000  0.103906   \n",
       "10     mean_B       0.97002   0.473   0.527  0.046216  0.051204   \n",
       "11     mean_B       0.00000   0.000   1.000  0.097183  0.000000   \n",
       "\n",
       "    mean_of_policy  total_opens  total_clicks  total_mean  \\\n",
       "0         0.098790          989            73    0.073812   \n",
       "1         0.087500          626            41    0.065495   \n",
       "2         0.105769          874            68    0.077803   \n",
       "3         0.107809         3517           264    0.075064   \n",
       "4         0.076316          644            56    0.086957   \n",
       "5         0.086156         1189           110    0.092515   \n",
       "6         0.093873          632            62    0.098101   \n",
       "7         0.105936          850            91    0.107059   \n",
       "8         0.086132          725            68    0.093793   \n",
       "9         0.109906          667            78    0.116942   \n",
       "10        0.097420         1503           147    0.097804   \n",
       "11        0.097183         7784           600    0.077081   \n",
       "\n",
       "    total_incremental_clicks  potential_incremental_clicks  \n",
       "0                  24.703629                     24.703629  \n",
       "1                  13.775000                     13.775000  \n",
       "2                  24.442308                     24.442308  \n",
       "3                 115.163753                    115.163753  \n",
       "4                  -6.852516                      9.241830  \n",
       "5                  -7.561010                      8.695353  \n",
       "6                  -2.672000                      8.000000  \n",
       "7                  -0.954095                      1.691415  \n",
       "8                  -5.554599                      5.663102  \n",
       "9                  -4.692962                      5.375000  \n",
       "10                 -0.577291                     15.706360  \n",
       "11                156.470406                    156.470406  "
      ]
     },
     "execution_count": 7,
     "metadata": {},
     "output_type": "execute_result"
    }
   ],
   "source": [
    "pred_lift, pivot = tree.policy_evaluation(test_df, print_info = True)\n",
    "pivot"
   ]
  },
  {
   "cell_type": "markdown",
   "metadata": {},
   "source": [
    "### Training Curves for the Contextual Bandits Decision Tree Algorithm"
   ]
  },
  {
   "cell_type": "code",
   "execution_count": 10,
   "metadata": {},
   "outputs": [],
   "source": [
    "import matplotlib.pyplot as plt\n",
    "%matplotlib inline"
   ]
  },
  {
   "cell_type": "code",
   "execution_count": 8,
   "metadata": {},
   "outputs": [],
   "source": [
    "train_lifts = []\n",
    "test_lifts = []\n",
    "training_times = []\n",
    "for i in range(6):\n",
    "    #print(i)\n",
    "    start = timer()\n",
    "    tree = cbdt.Contextual_Bandits_Tree(max_depth = i).fit(train_df)\n",
    "    end = timer()\n",
    "    training_times.append(np.round(end - start,3))  \n",
    "    #print('train')\n",
    "    train_lift, pivot = tree.policy_evaluation(train_df)\n",
    "    #print('test')\n",
    "    test_lift, pivot = tree.policy_evaluation(test_df)\n",
    "    train_lifts.append(train_lift)\n",
    "    test_lifts.append(test_lift)"
   ]
  },
  {
   "cell_type": "code",
   "execution_count": 11,
   "metadata": {},
   "outputs": [
    {
     "data": {
      "text/plain": [
       "<matplotlib.legend.Legend at 0x20e127da048>"
      ]
     },
     "execution_count": 11,
     "metadata": {},
     "output_type": "execute_result"
    },
    {
     "data": {
      "image/png": "[encoded data removed]",
      "text/plain": [
       "<matplotlib.figure.Figure at 0x20e274ba2e8>"
      ]
     },
     "metadata": {
      "needs_background": "light"
     },
     "output_type": "display_data"
    }
   ],
   "source": [
    "plt.plot(train_lifts, label = 'training score')\n",
    "plt.plot(test_lifts, label = 'testing score')\n",
    "plt.legend()"
   ]
  },
  {
   "cell_type": "code",
   "execution_count": 12,
   "metadata": {},
   "outputs": [
    {
     "data": {
      "text/plain": [
       "<matplotlib.legend.Legend at 0x20e27594cc0>"
      ]
     },
     "execution_count": 12,
     "metadata": {},
     "output_type": "execute_result"
    },
    {
     "data": {
      "image/png": "[encoded data removed]",
      "text/plain": [
       "<matplotlib.figure.Figure at 0x20e27594be0>"
      ]
     },
     "metadata": {
      "needs_background": "light"
     },
     "output_type": "display_data"
    }
   ],
   "source": [
    "plt.plot(training_times, label = 'training time')\n",
    "plt.legend()"
   ]
  },
  {
   "cell_type": "markdown",
   "metadata": {},
   "source": [
    "### Generate Python Dictionary version of Tree"
   ]
  },
  {
   "cell_type": "code",
   "execution_count": 8,
   "metadata": {},
   "outputs": [
    {
     "name": "stdout",
     "output_type": "stream",
     "text": [
      "{'Gender == 1': {'yes': {'Device == Mobile': {'yes': {'Income <= 171319': {'yes': {'Income <= 124507': {'yes': {'node_id': 4, 'choice': 'A', 'incremental_clicks': 135.0, 'p_value': 9.582068049752191e-16, 'pivot': {'A': {'opens': 2026.0, 'clicks': 221.0, 'mean': 0.10908193484698914, 'prob_of_choice': 1.0}, 'B': {'opens': 2030.0, 'clicks': 86.0, 'mean': 0.042364532019704436, 'prob_of_choice': 0.0}}}, 'no': {'node_id': 5, 'choice': 'A', 'incremental_clicks': 91.0, 'p_value': 2.78229290261247e-10, 'pivot': {'A': {'opens': 1254.0, 'clicks': 154.0, 'mean': 0.12280701754385964, 'prob_of_choice': 1.0}, 'B': {'opens': 1298.0, 'clicks': 68.0, 'mean': 0.05238828967642527, 'prob_of_choice': 0.0}}}}}, 'no': {'Income <= 237030': {'yes': {'node_id': 7, 'choice': 'A', 'incremental_clicks': 77.0, 'p_value': 1.4986593572955446e-07, 'pivot': {'A': {'opens': 1841.0, 'clicks': 170.0, 'mean': 0.09234111895708853, 'prob_of_choice': 1.0}, 'B': {'opens': 1716.0, 'clicks': 81.0, 'mean': 0.0472027972027972, 'prob_of_choice': 0.0}}}, 'no': {'node_id': 8, 'choice': 'A', 'incremental_clicks': 356.0, 'p_value': 2.4018005062030244e-30, 'pivot': {'A': {'opens': 6920.0, 'clicks': 699.0, 'mean': 0.10101156069364162, 'prob_of_choice': 1.0}, 'B': {'opens': 6927.0, 'clicks': 344.0, 'mean': 0.049660747798469754, 'prob_of_choice': 0.0}}}}}}}, 'no': {'Browser == Chrome': {'yes': {'Income <= 384842': {'yes': {'State == CA': {'yes': {'node_id': 12, 'choice': 'B', 'incremental_clicks': 24.0, 'p_value': 0.11658364756729152, 'pivot': {'A': {'opens': 1282.0, 'clicks': 119.0, 'mean': 0.09282371294851795, 'prob_of_choice': 0.086}, 'B': {'opens': 1272.0, 'clicks': 142.0, 'mean': 0.11163522012578617, 'prob_of_choice': 0.914}}}, 'no': {'node_id': 13, 'choice': 'B', 'incremental_clicks': 40.0, 'p_value': 0.06001040541224536, 'pivot': {'A': {'opens': 2379.0, 'clicks': 233.0, 'mean': 0.09794031105506515, 'prob_of_choice': 0.044}, 'B': {'opens': 2361.0, 'clicks': 271.0, 'mean': 0.11478187208809826, 'prob_of_choice': 0.956}}}}}, 'no': {'node_id': 14, 'choice': 'A', 'incremental_clicks': 7.0, 'p_value': 0.6449830790037767, 'pivot': {'A': {'opens': 1186.0, 'clicks': 117.0, 'mean': 0.09865092748735245, 'prob_of_choice': 0.667}, 'B': {'opens': 1203.0, 'clicks': 112.0, 'mean': 0.09310058187863675, 'prob_of_choice': 0.333}}}}}, 'no': {'Income <= 283960': {'yes': {'node_id': 16, 'choice': 'B', 'incremental_clicks': 15.0, 'p_value': 0.3966277437425806, 'pivot': {'A': {'opens': 1635.0, 'clicks': 166.0, 'mean': 0.10152905198776759, 'prob_of_choice': 0.229}, 'B': {'opens': 1608.0, 'clicks': 178.0, 'mean': 0.11069651741293532, 'prob_of_choice': 0.771}}}, 'no': {'node_id': 17, 'choice': 'A', 'incremental_clicks': 30.0, 'p_value': 0.061071184741483014, 'pivot': {'A': {'opens': 1587.0, 'clicks': 157.0, 'mean': 0.09892879647132956, 'prob_of_choice': 0.959}, 'B': {'opens': 1553.0, 'clicks': 124.0, 'mean': 0.0798454603992273, 'prob_of_choice': 0.041}}}}}}}}}, 'no': {'Income <= 146035': {'yes': {'Browser == Safari': {'yes': {'node_id': 20, 'choice': 'A', 'incremental_clicks': 28.0, 'p_value': 0.06750254891115648, 'pivot': {'A': {'opens': 1315.0, 'clicks': 153.0, 'mean': 0.11634980988593156, 'prob_of_choice': 0.952}, 'B': {'opens': 1253.0, 'clicks': 118.0, 'mean': 0.09417398244213887, 'prob_of_choice': 0.048}}}, 'no': {'node_id': 21, 'choice': 'B', 'incremental_clicks': 1.0, 'p_value': 0.9700154417092486, 'pivot': {'A': {'opens': 3004.0, 'clicks': 298.0, 'mean': 0.09920106524633822, 'prob_of_choice': 0.473}, 'B': {'opens': 2955.0, 'clicks': 294.0, 'mean': 0.09949238578680203, 'prob_of_choice': 0.527}}}}}, 'no': {'node_id': 22, 'choice': 'B', 'incremental_clicks': 742.0, 'p_value': 4.786601251427099e-57, 'pivot': {'A': {'opens': 15714.0, 'clicks': 803.0, 'mean': 0.05110092910780196, 'prob_of_choice': 0.0}, 'B': {'opens': 15681.0, 'clicks': 1542.0, 'mean': 0.09833556533384351, 'prob_of_choice': 1.0}}}}}}}\n"
     ]
    }
   ],
   "source": [
    "tree_dict = tree.get_tree_dict()\n",
    "print(tree_dict)"
   ]
  },
  {
   "cell_type": "code",
   "execution_count": null,
   "metadata": {},
   "outputs": [],
   "source": []
  }
 ],
 "metadata": {
  "kernelspec": {
   "display_name": "Python 3",
   "language": "python",
   "name": "python3"
  },
  "language_info": {
   "codemirror_mode": {
    "name": "ipython",
    "version": 3
   },
   "file_extension": ".py",
   "mimetype": "text/x-python",
   "name": "python",
   "nbconvert_exporter": "python",
   "pygments_lexer": "ipython3",
   "version": "3.6.7"
  }
 },
 "nbformat": 4,
 "nbformat_minor": 2
}

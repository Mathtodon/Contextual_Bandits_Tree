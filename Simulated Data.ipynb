{
 "cells": [
  {
   "cell_type": "code",
   "execution_count": 1,
   "metadata": {},
   "outputs": [],
   "source": [
    "import numpy as np\n",
    "import pandas as pd\n",
    "from statsmodels.stats.proportion import proportions_ztest\n",
    "import random\n",
    "from timeit import default_timer as timer"
   ]
  },
  {
   "cell_type": "markdown",
   "metadata": {},
   "source": [
    "## Generating Users and their Characteristics"
   ]
  },
  {
   "cell_type": "code",
   "execution_count": 2,
   "metadata": {},
   "outputs": [],
   "source": [
    "df = pd.DataFrame()\n",
    "length = 100000"
   ]
  },
  {
   "cell_type": "code",
   "execution_count": 3,
   "metadata": {},
   "outputs": [],
   "source": [
    "df[\"Gender\"] = np.random.choice([1, 0], length, p=[0.5, 0.5])"
   ]
  },
  {
   "cell_type": "code",
   "execution_count": 4,
   "metadata": {},
   "outputs": [],
   "source": [
    "df[\"AgeGroup\"] = np.random.choice([0,1,2,3,4,5,6,'NA'], length, p = [.08,.12,.18,.22,.18,.12,.08,.02])"
   ]
  },
  {
   "cell_type": "code",
   "execution_count": 5,
   "metadata": {},
   "outputs": [],
   "source": [
    "df[\"Program\"] = np.random.choice([\"A\",\"B\",\"C\",\"D\",\"E\",\"NA\"], length, p = [.2,.03,.17,.25,.30,.05])"
   ]
  },
  {
   "cell_type": "code",
   "execution_count": 6,
   "metadata": {},
   "outputs": [],
   "source": [
    "df[\"Income\"] = np.random.randint(50000, 500000, length)"
   ]
  },
  {
   "cell_type": "code",
   "execution_count": 7,
   "metadata": {},
   "outputs": [],
   "source": [
    "df[\"State\"] = np.random.choice([\"NJ\",\"NY\",\"CA\",\"TX\",\"NA\"], length, p = [.2,.3,.35,.10,.05])"
   ]
  },
  {
   "cell_type": "code",
   "execution_count": 8,
   "metadata": {},
   "outputs": [],
   "source": [
    "df[\"Device\"] = np.random.choice([\"Mobile\",\"Desktop\",\"Tablet\"], length, p = [.6,.35,.05])"
   ]
  },
  {
   "cell_type": "code",
   "execution_count": 9,
   "metadata": {},
   "outputs": [],
   "source": [
    "df[\"OS\"] = np.random.choice([\"Apple\",\"Windows\"], length, p = [.5,.5])"
   ]
  },
  {
   "cell_type": "code",
   "execution_count": 10,
   "metadata": {},
   "outputs": [],
   "source": [
    "df[\"Browser\"] = np.random.choice([\"Opera\",\"Chrome\",\"Safari\"], length, p = [.1,.6,.3])"
   ]
  },
  {
   "cell_type": "markdown",
   "metadata": {},
   "source": [
    "## We will give each person an equal chance of seeing options A & B"
   ]
  },
  {
   "cell_type": "code",
   "execution_count": 11,
   "metadata": {},
   "outputs": [],
   "source": [
    "df[\"option\"] = np.random.choice([\"A\", \"B\"], length, p=[0.5, 0.5])"
   ]
  },
  {
   "cell_type": "markdown",
   "metadata": {},
   "source": [
    "## And set the overall Click-Through-Rate = 10%"
   ]
  },
  {
   "cell_type": "code",
   "execution_count": 12,
   "metadata": {},
   "outputs": [],
   "source": [
    "df[\"click\"] = np.random.choice([1, 0], length, p=[0.1, 0.9])"
   ]
  },
  {
   "cell_type": "code",
   "execution_count": 13,
   "metadata": {},
   "outputs": [
    {
     "data": {
      "text/html": [
       "<div>\n",
       "<table border=\"1\" class=\"dataframe\">\n",
       "  <thead>\n",
       "    <tr style=\"text-align: right;\">\n",
       "      <th></th>\n",
       "      <th>Gender</th>\n",
       "      <th>AgeGroup</th>\n",
       "      <th>Program</th>\n",
       "      <th>Income</th>\n",
       "      <th>State</th>\n",
       "      <th>Device</th>\n",
       "      <th>OS</th>\n",
       "      <th>Browser</th>\n",
       "      <th>option</th>\n",
       "      <th>click</th>\n",
       "    </tr>\n",
       "  </thead>\n",
       "  <tbody>\n",
       "    <tr>\n",
       "      <th>0</th>\n",
       "      <td>0</td>\n",
       "      <td>3</td>\n",
       "      <td>C</td>\n",
       "      <td>200447</td>\n",
       "      <td>NJ</td>\n",
       "      <td>Desktop</td>\n",
       "      <td>Apple</td>\n",
       "      <td>Chrome</td>\n",
       "      <td>A</td>\n",
       "      <td>1</td>\n",
       "    </tr>\n",
       "    <tr>\n",
       "      <th>1</th>\n",
       "      <td>0</td>\n",
       "      <td>3</td>\n",
       "      <td>D</td>\n",
       "      <td>473011</td>\n",
       "      <td>CA</td>\n",
       "      <td>Desktop</td>\n",
       "      <td>Windows</td>\n",
       "      <td>Chrome</td>\n",
       "      <td>A</td>\n",
       "      <td>0</td>\n",
       "    </tr>\n",
       "    <tr>\n",
       "      <th>2</th>\n",
       "      <td>0</td>\n",
       "      <td>4</td>\n",
       "      <td>D</td>\n",
       "      <td>337266</td>\n",
       "      <td>CA</td>\n",
       "      <td>Mobile</td>\n",
       "      <td>Apple</td>\n",
       "      <td>Chrome</td>\n",
       "      <td>A</td>\n",
       "      <td>0</td>\n",
       "    </tr>\n",
       "    <tr>\n",
       "      <th>3</th>\n",
       "      <td>1</td>\n",
       "      <td>1</td>\n",
       "      <td>E</td>\n",
       "      <td>167260</td>\n",
       "      <td>NJ</td>\n",
       "      <td>Desktop</td>\n",
       "      <td>Apple</td>\n",
       "      <td>Chrome</td>\n",
       "      <td>A</td>\n",
       "      <td>0</td>\n",
       "    </tr>\n",
       "    <tr>\n",
       "      <th>4</th>\n",
       "      <td>1</td>\n",
       "      <td>1</td>\n",
       "      <td>D</td>\n",
       "      <td>364587</td>\n",
       "      <td>CA</td>\n",
       "      <td>Tablet</td>\n",
       "      <td>Apple</td>\n",
       "      <td>Chrome</td>\n",
       "      <td>B</td>\n",
       "      <td>0</td>\n",
       "    </tr>\n",
       "  </tbody>\n",
       "</table>\n",
       "</div>"
      ],
      "text/plain": [
       "   Gender AgeGroup Program  Income State   Device       OS Browser option  \\\n",
       "0       0        3       C  200447    NJ  Desktop    Apple  Chrome      A   \n",
       "1       0        3       D  473011    CA  Desktop  Windows  Chrome      A   \n",
       "2       0        4       D  337266    CA   Mobile    Apple  Chrome      A   \n",
       "3       1        1       E  167260    NJ  Desktop    Apple  Chrome      A   \n",
       "4       1        1       D  364587    CA   Tablet    Apple  Chrome      B   \n",
       "\n",
       "   click  \n",
       "0      1  \n",
       "1      0  \n",
       "2      0  \n",
       "3      0  \n",
       "4      0  "
      ]
     },
     "execution_count": 13,
     "metadata": {},
     "output_type": "execute_result"
    }
   ],
   "source": [
    "df.head()"
   ]
  },
  {
   "cell_type": "markdown",
   "metadata": {},
   "source": [
    "## Defining Segments with Different Response Rates"
   ]
  },
  {
   "cell_type": "markdown",
   "metadata": {},
   "source": [
    "#### Users with Gender == 1 & Device == Mobile will have a 5% Click-Through-Rate when shown option B "
   ]
  },
  {
   "cell_type": "code",
   "execution_count": 14,
   "metadata": {},
   "outputs": [],
   "source": [
    "n = df.loc[(df['Gender'] == 1) & (df['Device'] == 'Mobile') & (df['option'] == 'B'),\"click\"].shape[0]\n",
    "df.loc[(df['Gender'] == 1) & (df['Device'] == 'Mobile') & (df['option'] == 'B'),\"click\"] = np.random.choice([1, 0], n, p=[0.05, 0.95])"
   ]
  },
  {
   "cell_type": "markdown",
   "metadata": {},
   "source": [
    "#### Users with Gender == 0 & Income > 150000 will have a 5% Click-Through-Rate when shown option A "
   ]
  },
  {
   "cell_type": "code",
   "execution_count": 15,
   "metadata": {},
   "outputs": [],
   "source": [
    "n = df.loc[(df['Gender'] == 0) & (df['Income'] > 150000) & (df['option'] == 'A'),\"click\"].shape[0]\n",
    "df.loc[(df['Gender'] == 0) & (df['Income'] > 150000) & (df['option'] == 'A'),\"click\"] = np.random.choice([1, 0], n, p=[0.05, 0.95])"
   ]
  },
  {
   "cell_type": "markdown",
   "metadata": {},
   "source": [
    "#### Users with State from NJ or CA & OS == Apple & AgeGroup from 0 or 1 will have a 7% Click-Through-Rate when shown option B "
   ]
  },
  {
   "cell_type": "code",
   "execution_count": 16,
   "metadata": {},
   "outputs": [],
   "source": [
    "n = df.loc[(df['State'].isin([\"NJ\",\"CA\"])) & (df['OS'] == 'Apple') & (df['AgeGroup'].isin([0,1])) & (df['option'] == 'B'),\"click\"].shape[0]\n",
    "df.loc[(df['State'].isin([\"NJ\",\"CA\"])) & (df['OS'] == 'Apple') & (df['AgeGroup'].isin([0,1])) & (df['option'] == 'B'),\"click\"] = np.random.choice([1, 0], n, p=[0.07, 0.93])"
   ]
  },
  {
   "cell_type": "markdown",
   "metadata": {},
   "source": [
    "#### Users with AgeGroup of 5 or 6 will have a 5% Click-Through-Rate when shown option A "
   ]
  },
  {
   "cell_type": "code",
   "execution_count": 17,
   "metadata": {},
   "outputs": [],
   "source": [
    "n = df.loc[df['AgeGroup'].isin([5,6])  & (df['option'] == 'A'),\"click\"].shape[0]\n",
    "df.loc[df['AgeGroup'].isin([5,6]) & (df['option'] == 'A'),\"click\"] = np.random.choice([1, 0], n, p=[0.05, 0.95])"
   ]
  },
  {
   "cell_type": "markdown",
   "metadata": {},
   "source": [
    "#### Users with Program == B & Browser == Safari & Income < 100000 will have a 5% Click-Through-Rate when shown option B "
   ]
  },
  {
   "cell_type": "code",
   "execution_count": 18,
   "metadata": {},
   "outputs": [],
   "source": [
    "n = df.loc[(df['Program'] == 'B') & (df['Browser'] == 'Safari') & (df['Income'] < 100000) & (df['option'] == 'B'),\"click\"].shape[0]\n",
    "df.loc[(df['Program'] == 'B') & (df['Browser'] == 'Safari') & (df['Income'] < 100000) & (df['option'] == 'B'),\"click\"] = np.random.choice([1, 0], n, p=[0.05, 0.95])"
   ]
  },
  {
   "cell_type": "markdown",
   "metadata": {},
   "source": [
    "#### Users with Program == C & Browser == Chrome & Income > 350000 will have a 3% Click-Through-Rate when shown option A "
   ]
  },
  {
   "cell_type": "code",
   "execution_count": 19,
   "metadata": {},
   "outputs": [],
   "source": [
    "n = df.loc[(df['Program'] == 'C') & (df['Browser'] == 'Chrome') & (df['Income'] > 350000) & (df['option'] == 'A'),\"click\"].shape[0]\n",
    "df.loc[(df['Program'] == 'C') & (df['Browser'] == 'Chrome') & (df['Income'] > 350000) & (df['option'] == 'A'),\"click\"] = np.random.choice([1, 0], n, p=[0.03, 0.97])"
   ]
  },
  {
   "cell_type": "markdown",
   "metadata": {},
   "source": [
    "## Write to CSV"
   ]
  },
  {
   "cell_type": "code",
   "execution_count": 20,
   "metadata": {},
   "outputs": [],
   "source": [
    "df.to_csv('simulation_data.csv',index=False)"
   ]
  }
 ],
 "metadata": {
  "kernelspec": {
   "display_name": "Python 3",
   "language": "python",
   "name": "python3"
  },
  "language_info": {
   "codemirror_mode": {
    "name": "ipython",
    "version": 3
   },
   "file_extension": ".py",
   "mimetype": "text/x-python",
   "name": "python",
   "nbconvert_exporter": "python",
   "pygments_lexer": "ipython3",
   "version": "3.6.7"
  }
 },
 "nbformat": 4,
 "nbformat_minor": 2
}
